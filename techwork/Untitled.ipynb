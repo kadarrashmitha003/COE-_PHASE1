{
 "cells": [
  {
   "cell_type": "code",
   "execution_count": 8,
   "id": "416650eb-7a03-465b-b489-ceacee52b1c4",
   "metadata": {},
   "outputs": [
    {
     "name": "stdin",
     "output_type": "stream",
     "text": [
      "Enter internal marks:  55\n",
      "Enter external marks:  60\n",
      "Enter project marks:  70\n"
     ]
    },
    {
     "name": "stdout",
     "output_type": "stream",
     "text": [
      "Grade C\n"
     ]
    }
   ],
   "source": [
    "internal = int(input(\"Enter internal marks: \"))\n",
    "external = int(input(\"Enter external marks: \"))\n",
    "project = int(input(\"Enter project marks: \"))\n",
    "\n",
    "if internal >= 50 and external >= 50 and project >= 50:\n",
    "    total = (project * 70) / 100 + (external * 20) / 100 + (internal * 10) / 100\n",
    "\n",
    "    if total >= 90:\n",
    "        print(\"Grade A\")\n",
    "    elif total >= 70:\n",
    "        print(\"Grade B\")\n",
    "    else:\n",
    "        print(\"Grade C\")\n",
    "else:\n",
    "    if internal < 50:\n",
    "        print(f\"Failed in internal. Score: {internal}\")\n",
    "    if external < 50:\n",
    "        print(f\"Failed in external. Score: {external}\")\n",
    "    if project < 50:\n",
    "        print(f\"Failed in project. Score: {project}\")\n"
   ]
  },
  {
   "cell_type": "code",
   "execution_count": 16,
   "id": "6ac43222-d36a-435d-8a59-da5504e77616",
   "metadata": {},
   "outputs": [
    {
     "name": "stdin",
     "output_type": "stream",
     "text": [
      "Enter Prev units 6000\n",
      "Enter Pres units 8000\n"
     ]
    },
    {
     "name": "stdout",
     "output_type": "stream",
     "text": [
      "5428.0\n"
     ]
    }
   ],
   "source": [
    "prev=int(input(\"Enter Prev units\"))\n",
    "\n",
    "pres=int(input(\"Enter Pres units\"))\n",
    " \n",
    "units=pres-prev   \n",
    "\n",
    "bill=0\n",
    "\n",
    "if units<=50:\n",
    "\n",
    "    bill=units*0.50\n",
    "\n",
    "elif units<=150:\n",
    "\n",
    "    bill= 50*0.50+(units-50)*0.75\n",
    "\n",
    "elif units<=250:\n",
    "\n",
    "    bill=50*0.50+(100*0.75)+(units-150)*1.25\n",
    "\n",
    "else:\n",
    "\n",
    "    \n",
    "    bill=50*0.50+(100*0.75)+(100*1.25)+(units-250)*2.50\n",
    " \n",
    " \n",
    "bill=bill+(bill*18)/100\n",
    "print(bill)\n",
    " "
   ]
  },
  {
   "cell_type": "code",
   "execution_count": null,
   "id": "1938f2b4-26f2-4a1e-b57a-5e70d3783d8f",
   "metadata": {},
   "outputs": [],
   "source": [
    "1. Food – Smart Restaurant Billing with Meal Plans\n",
    "Scenario:\n",
    "A restaurant offers multiple meal plans (Veg, Non-Veg, Combo) and discounts on festivals.\n",
    " \n",
    "Requirements:\n",
    " \n",
    "Take user input: meal type, quantity, is today a festival (yes/no)\n",
    " \n",
    "Pricing:\n",
    " \n",
    "Veg: ₹150\n",
    " \n",
    "Non-Veg: ₹200\n",
    " \n",
    "Combo: ₹300\n",
    " \n",
    "Festival day → 10% discount\n",
    " \n",
    "If total bill > ₹1000 → add free dessert\n",
    " \n",
    "Add 5% GST on total"
   ]
  },
  {
   "cell_type": "code",
   "execution_count": 33,
   "id": "6ab0ff24-4f4c-4615-a4c8-bf91c9de3dc1",
   "metadata": {},
   "outputs": [
    {
     "name": "stdin",
     "output_type": "stream",
     "text": [
      "Enter meal (veg/nonveg/other):  veg\n",
      "Enter quantity:  50\n",
      "Is it a festival? (yes/no):  no\n"
     ]
    },
    {
     "name": "stdout",
     "output_type": "stream",
     "text": [
      "Cost before discount/addition: 7500\n",
      "Free dessert!\n",
      "Final cost after discount/charges: 7875.0\n"
     ]
    }
   ],
   "source": [
    "meal = input(\"Enter meal (veg/nonveg/other): \")\n",
    "quantity = int(input(\"Enter quantity: \"))\n",
    "festival = input(\"Is it a festival? (yes/no): \")\n",
    "\n",
    "if meal == \"veg\":\n",
    "    cost = 150 * quantity\n",
    "elif meal == \"nonveg\":\n",
    "    cost = 200 * quantity\n",
    "else:\n",
    "    cost = 300 * quantity\n",
    "\n",
    "print(\"Cost before discount/addition:\", cost)\n",
    "\n",
    "\n",
    "if cost > 1000:\n",
    "    print(\"Free dessert!\")\n",
    "\n",
    "if festival == \"yes\":\n",
    "    cost = cost - (cost * 10) / 100\n",
    "else:\n",
    "    cost = cost + (cost * 5) / 100\n",
    "\n",
    "print(\"Final cost after discount/charges:\", cost)\n"
   ]
  },
  {
   "cell_type": "code",
   "execution_count": null,
   "id": "2f1fd61e-b934-4450-8fd7-cfa77f9ebcde",
   "metadata": {},
   "outputs": [],
   "source": [
    "2. Education – Scholarship Eligibility Evaluator\n",
    "\n",
    "Scenario:\n",
    "\n",
    "University grants scholarships based on students’ marks and family income.\n",
    " \n",
    "Requirements:\n",
    " \n",
    "Input: student name, % in 10th, 12th, UG, family income\n",
    " \n",
    "Rules:\n",
    " \n",
    "85% in all and income < 3 LPA → Full Scholarship\n",
    " \n",
    "70% in UG and income < 5 LPA → Partial Scholarship\n",
    " \n",
    "Else → Not eligible\n",
    "\n",
    " \n",
    "\n",
    "\n",
    " "
   ]
  },
  {
   "cell_type": "code",
   "execution_count": 40,
   "id": "55ef3917-4246-49f7-82c4-1e4199b181ed",
   "metadata": {},
   "outputs": [
    {
     "name": "stdin",
     "output_type": "stream",
     "text": [
      "enter student name x\n",
      "enter the marks percentage 76\n",
      "enter the marks percentage 55\n",
      "enter the marks percentage 43\n",
      "enter family income 300000\n"
     ]
    },
    {
     "name": "stdout",
     "output_type": "stream",
     "text": [
      "you are not eligible\n"
     ]
    }
   ],
   "source": [
    "name=input(\"enter student name\")\n",
    "tenth=int(input(\"enter the marks percentage\"))\n",
    "twelve=int(input(\"enter the marks percentage\"))\n",
    "ug=int(input(\"enter the marks percentage\"))\n",
    "income=int(input(\"enter family income\"))\n",
    "if tenth>=85 and twelve>=85 and ug>=70 and income<=300000:\n",
    "    print(\"you are eligibile for full scholarship\")\n",
    "elif ug>=70 and income<=500000:\n",
    "    print(\"you are eligibile for partial scholarship\")\n",
    "else:\n",
    "    print(\"you are not eligible\")\n",
    "    \n",
    "\n"
   ]
  },
  {
   "cell_type": "code",
   "execution_count": null,
   "id": "9b4f114f-fbf6-4587-8e95-841001316850",
   "metadata": {},
   "outputs": [],
   "source": [
    "3. Government – Ration Card Eligibility Checker\n",
    "Scenario:\n",
    "The government checks if a family is eligible for subsidized ration based on income, family size, and location.\n",
    " \n",
    "Requirements:\n",
    " \n",
    "Input: number of family members, annual income, rural or urban\n",
    " \n",
    "Conditions:\n",
    " \n",
    "Rural + income < 2.5 LPA + >3 members → Eligible\n",
    " \n",
    "Urban + income < 2 LPA + >4 members → Eligible\n",
    " \n",
    "Else → Not eligible"
   ]
  },
  {
   "cell_type": "code",
   "execution_count": 45,
   "id": "242174a0-bd59-4082-ace0-75cf5a6542bf",
   "metadata": {},
   "outputs": [
    {
     "name": "stdin",
     "output_type": "stream",
     "text": [
      "enter size of the family 3\n",
      "enter income 2.5\n",
      "enter rural or urban rural\n"
     ]
    },
    {
     "name": "stdout",
     "output_type": "stream",
     "text": [
      "eligible\n"
     ]
    }
   ],
   "source": [
    "family=int(input(\"enter size of the family\"))\n",
    "income=float(input(\"enter income\"))\n",
    "area=input(\"enter rural or urban\")\n",
    "if family>=3 and income<=2.5 and area== \"rural\":\n",
    " print(\"eligible\")\n",
    "elif family>=4 and income<=2 and area==\"urban\":\n",
    " print(\"eligible for ration card\")\n",
    "else:\n",
    "    print(\"not eligible for ration\")"
   ]
  },
  {
   "cell_type": "code",
   "execution_count": null,
   "id": "34418088-6a09-404b-9bd8-73d52244f1d0",
   "metadata": {},
   "outputs": [],
   "source": []
  }
 ],
 "metadata": {
  "kernelspec": {
   "display_name": "Python 3 (ipykernel)",
   "language": "python",
   "name": "python3"
  },
  "language_info": {
   "codemirror_mode": {
    "name": "ipython",
    "version": 3
   },
   "file_extension": ".py",
   "mimetype": "text/x-python",
   "name": "python",
   "nbconvert_exporter": "python",
   "pygments_lexer": "ipython3",
   "version": "3.12.5"
  }
 },
 "nbformat": 4,
 "nbformat_minor": 5
}
